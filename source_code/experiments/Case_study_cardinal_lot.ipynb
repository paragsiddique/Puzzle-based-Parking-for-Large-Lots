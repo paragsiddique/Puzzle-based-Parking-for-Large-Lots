{
 "cells": [
  {
   "cell_type": "code",
   "execution_count": 14,
   "id": "compressed-alabama",
   "metadata": {},
   "outputs": [],
   "source": [
    "parag_windows = 'C:\\\\Users\\\\parag\\\\Dropbox (Personal)\\\\sub_lot_paper\\\\source_code\\\\'\n",
    "parag_mac = '/Users/paragsiddique/LoDI Dropbox/sub_lot_paper/source_code/'\n",
    "import sys\n",
    "sys.path.append(parag_windows)"
   ]
  },
  {
   "cell_type": "code",
   "execution_count": 15,
   "id": "6bad69da",
   "metadata": {},
   "outputs": [],
   "source": [
    "import matplotlib.pyplot as plt\n",
    "import pickle "
   ]
  },
  {
   "cell_type": "code",
   "execution_count": 16,
   "id": "blessed-highway",
   "metadata": {},
   "outputs": [],
   "source": [
    "from parking_env.parking_lot import *\n",
    "from parking_env.sub_lot import *\n",
    "from parking_env.traditional_lot import *\n",
    "from parking_env.retrieval_algorithms import *\n",
    "from parking_env.sub_lot_utils import *\n",
    "from parking_env.utils import *\n",
    "from parking_env.sub_lot_cost_function import *"
   ]
  },
  {
   "cell_type": "code",
   "execution_count": 17,
   "id": "pleasant-positive",
   "metadata": {},
   "outputs": [],
   "source": [
    "width = 460\n",
    "length = 750\n",
    "cell_size = 9\n",
    "sub_lot_speed=3.5\n",
    "driving_lane_speed = 11"
   ]
  },
  {
   "cell_type": "markdown",
   "id": "b8f6d5b7",
   "metadata": {},
   "source": [
    "# No. of cars"
   ]
  },
  {
   "cell_type": "code",
   "execution_count": 18,
   "id": "d3974f5c",
   "metadata": {},
   "outputs": [],
   "source": [
    "traditional_parking_lot = TraditionalLot(width, length)\n",
    "state = traditional_parking_lot.state()"
   ]
  },
  {
   "cell_type": "code",
   "execution_count": 19,
   "id": "certain-relations",
   "metadata": {},
   "outputs": [
    {
     "data": {
      "text/plain": [
       "1323"
      ]
     },
     "execution_count": 19,
     "metadata": {},
     "output_type": "execute_result"
    }
   ],
   "source": [
    "no_of_cars_traditional = len(state)\n",
    "no_of_cars_traditional"
   ]
  },
  {
   "cell_type": "code",
   "execution_count": 20,
   "id": "45a827a1",
   "metadata": {},
   "outputs": [],
   "source": [
    "min_rows, max_rows = 3, 10\n",
    "min_cols, max_cols = 3, 6"
   ]
  },
  {
   "cell_type": "code",
   "execution_count": 21,
   "id": "static-production",
   "metadata": {},
   "outputs": [],
   "source": [
    "sub_lot_sizes = []\n",
    "for i in list(range(min_rows, max_rows+1)):\n",
    "    for j in list(range(min_cols, max_cols+1)):\n",
    "        sub_lot_sizes.append((i, j))"
   ]
  },
  {
   "cell_type": "code",
   "execution_count": 22,
   "id": "lesbian-billion",
   "metadata": {},
   "outputs": [
    {
     "data": {
      "text/plain": [
       "{(5, 6): 1366,\n",
       " (6, 6): 1406,\n",
       " (7, 5): 1407,\n",
       " (7, 6): 1456,\n",
       " (8, 3): 1340,\n",
       " (8, 5): 1383,\n",
       " (8, 6): 1466,\n",
       " (9, 5): 1431,\n",
       " (9, 6): 1486,\n",
       " (10, 3): 1360,\n",
       " (10, 4): 1328,\n",
       " (10, 5): 1443,\n",
       " (10, 6): 1516}"
      ]
     },
     "execution_count": 22,
     "metadata": {},
     "output_type": "execute_result"
    }
   ],
   "source": [
    "no_of_cars_cardinal_sub_lot ={}\n",
    "for sublot_rows, sublot_columns in sub_lot_sizes:\n",
    "    modular_parking_lot = ModularLot(width, length, sublot_rows, sublot_columns)\n",
    "    if modular_parking_lot.total_no_of_cars()>no_of_cars_traditional:\n",
    "        no_of_cars_cardinal_sub_lot[(sublot_rows, sublot_columns)] = modular_parking_lot.total_no_of_cars()\n",
    "no_of_cars_cardinal_sub_lot"
   ]
  },
  {
   "cell_type": "code",
   "execution_count": 23,
   "id": "567d5a1d",
   "metadata": {},
   "outputs": [
    {
     "data": {
      "text/plain": [
       "[(8, 3),\n",
       " (10, 3),\n",
       " (10, 4),\n",
       " (7, 5),\n",
       " (8, 5),\n",
       " (9, 5),\n",
       " (10, 5),\n",
       " (5, 6),\n",
       " (6, 6),\n",
       " (7, 6),\n",
       " (8, 6),\n",
       " (9, 6),\n",
       " (10, 6)]"
      ]
     },
     "execution_count": 23,
     "metadata": {},
     "output_type": "execute_result"
    }
   ],
   "source": [
    "n_sorted = sorted(no_of_cars_cardinal_sub_lot.keys(), key=lambda tup: tup[1])\n",
    "n_sorted"
   ]
  },
  {
   "cell_type": "code",
   "execution_count": 24,
   "id": "a5559789",
   "metadata": {},
   "outputs": [
    {
     "data": {
      "text/plain": [
       "{(8, 3): 1.28,\n",
       " (10, 3): 2.8,\n",
       " (10, 4): 0.38,\n",
       " (7, 5): 6.35,\n",
       " (8, 5): 4.54,\n",
       " (9, 5): 8.16,\n",
       " (10, 5): 9.07,\n",
       " (5, 6): 3.25,\n",
       " (6, 6): 6.27,\n",
       " (7, 6): 10.05,\n",
       " (8, 6): 10.81,\n",
       " (9, 6): 12.32,\n",
       " (10, 6): 14.59}"
      ]
     },
     "execution_count": 24,
     "metadata": {},
     "output_type": "execute_result"
    }
   ],
   "source": [
    "percent_improvement_no_of_cars = {}\n",
    "for x in n_sorted:\n",
    "    percent_improvement_no_of_cars[x] = round(100*(no_of_cars_cardinal_sub_lot[x] - no_of_cars_traditional)/no_of_cars_traditional, 2)\n",
    "    \n",
    "percent_improvement_no_of_cars"
   ]
  },
  {
   "cell_type": "code",
   "execution_count": 25,
   "id": "original-undergraduate",
   "metadata": {},
   "outputs": [
    {
     "name": "stdout",
     "output_type": "stream",
     "text": [
      "[1.28, 2.8, 0.38, 6.35, 4.54, 8.16, 9.07, 3.25, 6.27, 10.05, 10.81, 12.32, 14.59]\n",
      "[1340, 1360, 1328, 1407, 1383, 1431, 1443, 1366, 1406, 1456, 1466, 1486, 1516]\n"
     ]
    }
   ],
   "source": [
    "p_imp_cars = [percent_improvement_no_of_cars[x] for x in n_sorted]\n",
    "n_cars = [no_of_cars_cardinal_sub_lot[x] for x in n_sorted]\n",
    "\n",
    "print(p_imp_cars)\n",
    "print(n_cars)"
   ]
  },
  {
   "cell_type": "code",
   "execution_count": 26,
   "id": "925c9b1f",
   "metadata": {},
   "outputs": [
    {
     "data": {
      "image/png": "[encoded data removed]",
      "text/plain": [
       "<Figure size 648x432 with 1 Axes>"
      ]
     },
     "metadata": {
      "needs_background": "light"
     },
     "output_type": "display_data"
    }
   ],
   "source": [
    "plt.figure(figsize=(9, 6))\n",
    "plt.plot(n_cars, 'o')\n",
    "plt.xlabel(\"Sub-lot size\")\n",
    "plt.ylabel(\"Number of cars\")\n",
    "plt.xticks(list(range(len(n_sorted))),[str(x[0])+r'$\\times$'+str(x[1]) for x in n_sorted], rotation=45)\n",
    "plt.yticks()\n",
    "plt.ylim(1300, 1550)\n",
    "for i, j in [(i, j) for i, j in enumerate(n_cars)]:\n",
    "    plt.text(i, j+10, str(p_imp_cars[i])+'%', ha='center')\n",
    "#plt.savefig('cardinal_lot_no_of_cars.pdf')\n",
    "plt.show()"
   ]
  },
  {
   "cell_type": "markdown",
   "id": "f72d9f14",
   "metadata": {},
   "source": [
    "# Retrieval time"
   ]
  },
  {
   "cell_type": "code",
   "execution_count": 27,
   "id": "d4489cf0",
   "metadata": {},
   "outputs": [
    {
     "name": "stdout",
     "output_type": "stream",
     "text": [
      "Wall time: 5min 29s\n"
     ]
    },
    {
     "data": {
      "text/plain": [
       "42.0"
      ]
     },
     "execution_count": 27,
     "metadata": {},
     "output_type": "execute_result"
    }
   ],
   "source": [
    "%%time\n",
    "retrieval_moves_trad_lot = rt_trad(width, length)\n",
    "mean_distance_traveled_trad_lot = np.around(np.mean(retrieval_moves_trad_lot)*cell_size, 2)\n",
    "mean_rt_trad_lot = np.ceil(mean_distance_traveled_trad_lot/driving_lane_speed)\n",
    "mean_rt_trad_lot"
   ]
  },
  {
   "cell_type": "code",
   "execution_count": 28,
   "id": "e2c1b9ed",
   "metadata": {},
   "outputs": [],
   "source": [
    "sub_lot_col_03_results = pickle.load(open(parag_windows+'results\\\\sub_lot_col_03_results.pkl', 'rb'))\n",
    "sub_lot_col_04_results = pickle.load(open(parag_windows+'results\\\\sub_lot_col_04_results.pkl', 'rb'))\n",
    "sub_lot_col_05_results = pickle.load(open(parag_windows+'results\\\\sub_lot_col_05_results.pkl', 'rb'))\n",
    "sub_lot_col_06_results = pickle.load(open(parag_windows+'results\\\\sub_lot_col_06_results.pkl', 'rb'))"
   ]
  },
  {
   "cell_type": "code",
   "execution_count": 29,
   "id": "54ebcbb7",
   "metadata": {},
   "outputs": [],
   "source": [
    "sub_lot_8x3 = np.around(np.mean(np.array(sub_lot_col_03_results['sub_lot_8x3']['comp_cost'])), 2)\n",
    "sub_lot_10x3 = np.around(np.mean(np.array(sub_lot_col_03_results['sub_lot_10x3']['comp_cost'])), 2)\n",
    "sub_lot_10x4 = np.around(np.mean(np.array(sub_lot_col_04_results['sub_lot_10x4']['comp_cost'])), 2)\n",
    "sub_lot_7x5 = np.around(np.mean(np.array(sub_lot_col_05_results['sub_lot_7x5']['comp_cost'])), 2)\n",
    "sub_lot_8x5 = np.around(np.mean(np.array(sub_lot_col_05_results['sub_lot_8x5']['comp_cost'])), 2)\n",
    "sub_lot_9x5 = np.around(np.mean(np.array(sub_lot_col_05_results['sub_lot_9x5']['comp_cost'])), 2)\n",
    "sub_lot_10x5 = np.around(np.mean(np.array(sub_lot_col_05_results['sub_lot_10x5']['comp_cost'])), 2)\n",
    "sub_lot_5x6 = np.around(np.mean(np.array(sub_lot_col_06_results['sub_lot_5x6']['comp_cost'])), 2)\n",
    "sub_lot_6x6 = np.around(np.mean(np.array(sub_lot_col_06_results['sub_lot_6x6']['comp_cost'])), 2)\n",
    "sub_lot_7x6 = np.around(np.mean(np.array(sub_lot_col_06_results['sub_lot_7x6']['comp_cost'])), 2)\n",
    "sub_lot_8x6 = np.around(np.mean(np.array(sub_lot_col_06_results['sub_lot_8x6']['comp_cost'])), 2)\n",
    "sub_lot_9x6 = np.around(np.mean(np.array(sub_lot_col_06_results['sub_lot_9x6']['comp_cost'])), 2)\n",
    "sub_lot_10x6 = np.around(np.mean(np.array(sub_lot_col_06_results['sub_lot_10x6']['comp_cost'])), 2)"
   ]
  },
  {
   "cell_type": "code",
   "execution_count": 30,
   "id": "accepted-johns",
   "metadata": {},
   "outputs": [],
   "source": [
    "sub_lot_list = [sub_lot_8x3, sub_lot_10x3, sub_lot_10x4, sub_lot_7x5, sub_lot_8x5, sub_lot_9x5, sub_lot_10x5,\n",
    "             sub_lot_5x6, sub_lot_6x6, sub_lot_7x6, sub_lot_8x6, sub_lot_9x6, sub_lot_10x6]"
   ]
  },
  {
   "cell_type": "code",
   "execution_count": 31,
   "id": "b6140a43",
   "metadata": {},
   "outputs": [
    {
     "data": {
      "text/plain": [
       "{(8, 3): 1.82,\n",
       " (10, 3): 2.0,\n",
       " (10, 4): 9.59,\n",
       " (7, 5): 11.6,\n",
       " (8, 5): 11.12,\n",
       " (9, 5): 12.75,\n",
       " (10, 5): 13.09,\n",
       " (5, 6): 13.25,\n",
       " (6, 6): 11.33,\n",
       " (7, 6): 13.89,\n",
       " (8, 6): 14.05,\n",
       " (9, 6): 18.58,\n",
       " (10, 6): 14.85}"
      ]
     },
     "execution_count": 31,
     "metadata": {},
     "output_type": "execute_result"
    }
   ],
   "source": [
    "sub_lot_mean_retrieval_moves = dict(zip(n_sorted, sub_lot_list))\n",
    "sub_lot_mean_retrieval_moves"
   ]
  },
  {
   "cell_type": "code",
   "execution_count": 32,
   "id": "4a815050",
   "metadata": {},
   "outputs": [
    {
     "name": "stdout",
     "output_type": "stream",
     "text": [
      "3\n",
      "4\n",
      "5\n",
      "6\n",
      "Wall time: 7min 43s\n"
     ]
    },
    {
     "data": {
      "text/plain": [
       "{3: 50.96, 4: 50.96, 5: 52.49, 6: 53.82}"
      ]
     },
     "execution_count": 32,
     "metadata": {},
     "output_type": "execute_result"
    }
   ],
   "source": [
    "%%time\n",
    "driving_lane_mean_retrieval_moves = {}\n",
    "for sublot_columns in [3, 4, 5, 6]:\n",
    "    print(sublot_columns)\n",
    "    driving_lane_mean_retrieval_moves[sublot_columns] = np.around(np.mean(rt(width, length, sublot_columns, sublot_rows=10)), 2)\n",
    "\n",
    "driving_lane_mean_retrieval_moves"
   ]
  },
  {
   "cell_type": "code",
   "execution_count": 33,
   "id": "prescription-circuit",
   "metadata": {},
   "outputs": [],
   "source": [
    "def compute_mean_rt(sub_lot_mean_retrieval_moves, \n",
    "                    driving_lane_mean_retrieval_moves, \n",
    "                    sub_lot_size, \n",
    "                    cell_size=9, \n",
    "                    sub_lot_speed=3.5, \n",
    "                    driving_lane_speed=11):\n",
    "    \n",
    "    sub_lot_mean_rt = sub_lot_mean_retrieval_moves[sub_lot_size]*cell_size/sub_lot_speed\n",
    "    driving_lane_rt = driving_lane_mean_retrieval_moves[sub_lot_size[1]]*cell_size/driving_lane_speed\n",
    "    \n",
    "    return round(sub_lot_mean_rt + driving_lane_rt, 2)"
   ]
  },
  {
   "cell_type": "code",
   "execution_count": 34,
   "id": "1330be69",
   "metadata": {},
   "outputs": [
    {
     "data": {
      "text/plain": [
       "46.37"
      ]
     },
     "execution_count": 34,
     "metadata": {},
     "output_type": "execute_result"
    }
   ],
   "source": [
    "compute_mean_rt(sub_lot_mean_retrieval_moves, \n",
    "                driving_lane_mean_retrieval_moves, \n",
    "                (8, 3), cell_size=9, sub_lot_speed=3.5, driving_lane_speed=11)"
   ]
  },
  {
   "cell_type": "code",
   "execution_count": 35,
   "id": "66d0c74d",
   "metadata": {},
   "outputs": [
    {
     "data": {
      "text/plain": [
       "{(8, 3): 46.37,\n",
       " (10, 3): 46.84,\n",
       " (10, 4): 66.35,\n",
       " (7, 5): 72.77,\n",
       " (8, 5): 71.54,\n",
       " (9, 5): 75.73,\n",
       " (10, 5): 76.61,\n",
       " (5, 6): 78.11,\n",
       " (6, 6): 73.17,\n",
       " (7, 6): 79.75,\n",
       " (8, 6): 80.16,\n",
       " (9, 6): 91.81,\n",
       " (10, 6): 82.22}"
      ]
     },
     "execution_count": 35,
     "metadata": {},
     "output_type": "execute_result"
    }
   ],
   "source": [
    "mean_rt = {}\n",
    "for x in n_sorted:\n",
    "    mean_rt[x]  = compute_mean_rt(sub_lot_mean_retrieval_moves, \n",
    "                driving_lane_mean_retrieval_moves, \n",
    "                x, \n",
    "                cell_size=9, sub_lot_speed=3.5, driving_lane_speed=11)\n",
    "mean_rt"
   ]
  },
  {
   "cell_type": "code",
   "execution_count": 36,
   "id": "69b5b30b",
   "metadata": {},
   "outputs": [
    {
     "data": {
      "text/plain": [
       "{(8, 3): 10.4,\n",
       " (10, 3): 11.52,\n",
       " (10, 4): 57.98,\n",
       " (7, 5): 73.26,\n",
       " (8, 5): 70.33,\n",
       " (9, 5): 80.31,\n",
       " (10, 5): 82.4,\n",
       " (5, 6): 85.98,\n",
       " (6, 6): 74.21,\n",
       " (7, 6): 89.88,\n",
       " (8, 6): 90.86,\n",
       " (9, 6): 118.6,\n",
       " (10, 6): 95.76}"
      ]
     },
     "execution_count": 36,
     "metadata": {},
     "output_type": "execute_result"
    }
   ],
   "source": [
    "percent_increase_rt = {}\n",
    "for x in n_sorted:\n",
    "    percent_increase_rt[x] = round(100*(mean_rt[x] - mean_rt_trad_lot)/mean_rt_trad_lot, 2)\n",
    "    \n",
    "percent_increase_rt"
   ]
  },
  {
   "cell_type": "code",
   "execution_count": 37,
   "id": "sapphire-trainer",
   "metadata": {},
   "outputs": [
    {
     "data": {
      "image/png": "[encoded data removed]",
      "text/plain": [
       "<Figure size 648x432 with 1 Axes>"
      ]
     },
     "metadata": {
      "needs_background": "light"
     },
     "output_type": "display_data"
    }
   ],
   "source": [
    "plt.figure(figsize=(9,6))\n",
    "plt.plot(list(mean_rt.values()), 'o')\n",
    "plt.xlabel(\"Sub-lot size\")\n",
    "plt.ylabel(\"Mean retrieval time (sec)\")\n",
    "plt.xticks(list(range(len(n_sorted))),[str(x[0])+r'$\\times$'+str(x[1]) for x in n_sorted], rotation=45)\n",
    "plt.yticks()\n",
    "plt.ylim(40, 100)\n",
    "for i, j in [(i, j) for i, j in enumerate(list(mean_rt.values()))]:\n",
    "    plt.text(i, j+2, str(list(percent_increase_rt.values())[i])+'%', ha='center')\n",
    "#plt.savefig('cardinal_lot_mean_rt.pdf')\n",
    "plt.show()"
   ]
  },
  {
   "cell_type": "code",
   "execution_count": null,
   "id": "forward-judges",
   "metadata": {},
   "outputs": [],
   "source": []
  }
 ],
 "metadata": {
  "kernelspec": {
   "display_name": "Python 3",
   "language": "python",
   "name": "python3"
  },
  "language_info": {
   "codemirror_mode": {
    "name": "ipython",
    "version": 3
   },
   "file_extension": ".py",
   "mimetype": "text/x-python",
   "name": "python",
   "nbconvert_exporter": "python",
   "pygments_lexer": "ipython3",
   "version": "3.7.10"
  }
 },
 "nbformat": 4,
 "nbformat_minor": 5
}
